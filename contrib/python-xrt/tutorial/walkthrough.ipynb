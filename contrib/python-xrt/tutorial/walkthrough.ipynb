{
 "cells": [
  {
   "cell_type": "markdown",
   "metadata": {},
   "source": [
    "# Example Usage\n",
    "\n",
    "It's always a good habit to check the card availability first"
   ]
  },
  {
   "cell_type": "code",
   "execution_count": 1,
   "metadata": {},
   "outputs": [],
   "source": [
    "scan_output = !xbutil scan"
   ]
  },
  {
   "cell_type": "code",
   "execution_count": 2,
   "metadata": {},
   "outputs": [
    {
     "name": "stdout",
     "output_type": "stream",
     "text": [
      "[0]mgmt:[65:00.1]:0x5004:0x000e:[xclmgmt:2018.2.2:25857]\n",
      "[0]user:[65:00.0]:0x5005:0x000e:[xocl_xdma:2018.2.8:128]\n"
     ]
    }
   ],
   "source": [
    "print(scan_output[-2])\n",
    "print(scan_output[-1])"
   ]
  },
  {
   "cell_type": "code",
   "execution_count": 3,
   "metadata": {},
   "outputs": [
    {
     "name": "stdout",
     "output_type": "stream",
     "text": [
      "Your card is good to go\n"
     ]
    }
   ],
   "source": [
    "if \"*\" in scan_output[-2] or \"*\" in scan_output[-1]:\n",
    "    print(\"Your card is not ready\")\n",
    "else:\n",
    "    print(\"Your card is good to go\")"
   ]
  },
  {
   "cell_type": "markdown",
   "metadata": {},
   "source": [
    "### Installation\n",
    "\n",
    "First make sure you have XRT installed, then just do `pip install xrt`\n",
    "\n",
    "### Getting Started\n",
    "\n",
    "First import the xrt core library\n",
    "\n",
    "use `from xrt.core import hal` for hardware\n",
    "\n",
    "use `from xrt.core import sw_emu_hal as hal` for software emulation\n",
    "\n",
    "use `from xrt.core import hw_emu_hal as hal` for hardware emulation\n",
    "\n",
    "###### Note:\n",
    "\n",
    "For some reason, dynamic loading is determined at OpenCL level. Although both emulation and hardware implement the same abstraction layer, it is not switchable at this layer. At the same time, static linking is also troublesome because emulation is missing some APIs."
   ]
  },
  {
   "cell_type": "code",
   "execution_count": 4,
   "metadata": {},
   "outputs": [],
   "source": [
    "from xrt.core import hal"
   ]
  },
  {
   "cell_type": "code",
   "execution_count": 5,
   "metadata": {},
   "outputs": [],
   "source": [
    "import numpy as np"
   ]
  },
  {
   "cell_type": "code",
   "execution_count": 6,
   "metadata": {},
   "outputs": [],
   "source": [
    "%matplotlib inline\n",
    "from tqdm import tnrange, tqdm_notebook\n",
    "from time import sleep\n",
    "import time\n",
    "import matplotlib.pyplot as plt\n",
    "import json"
   ]
  },
  {
   "cell_type": "markdown",
   "metadata": {},
   "source": [
    "### Probe Devices\n",
    "\n",
    "`hal.probe()` is the same as xclProbe which scan the number of devices available"
   ]
  },
  {
   "cell_type": "code",
   "execution_count": 7,
   "metadata": {},
   "outputs": [
    {
     "name": "stdout",
     "output_type": "stream",
     "text": [
      "Found 1 devices on the system\n"
     ]
    }
   ],
   "source": [
    "device_cnt = hal.probe()\n",
    "print(\"Found \" + str(device_cnt) + \" devices on the system\")"
   ]
  },
  {
   "cell_type": "markdown",
   "metadata": {},
   "source": [
    "### Open Device\n",
    "\n",
    "Devices are identified using a unique string ID"
   ]
  },
  {
   "cell_type": "code",
   "execution_count": 8,
   "metadata": {},
   "outputs": [],
   "source": [
    "device_name = \"demo_device\"\n",
    "verbosity_level = \"info\"\n",
    "hal.open(0, device_name, verbosity_level)"
   ]
  },
  {
   "cell_type": "code",
   "execution_count": 9,
   "metadata": {},
   "outputs": [
    {
     "name": "stdout",
     "output_type": "stream",
     "text": [
      "DSA on the card: xilinx_u250_xdma_201820_1\n",
      "Xilinx part on the card: xcu250-figd2104-2L-e\n"
     ]
    }
   ],
   "source": [
    "device_info = hal.info(device_name)\n",
    "print(\"DSA on the card: \" + device_info[\"name\"])\n",
    "print(\"Xilinx part on the card: \" + device_info[\"fpga\"])"
   ]
  },
  {
   "cell_type": "markdown",
   "metadata": {},
   "source": [
    "### Load Bitstream\n",
    "\n",
    "First find the path to the bitstream in file system\n",
    "\n",
    "###### Note: shell command can be called using ! in notebook"
   ]
  },
  {
   "cell_type": "code",
   "execution_count": 10,
   "metadata": {},
   "outputs": [
    {
     "name": "stdout",
     "output_type": "stream",
     "text": [
      "/proj/isi_group/isim/tianhaoz/Github/xclbin_factory/basic_vadd/System/binary_container_1.xclbin\r\n"
     ]
    }
   ],
   "source": [
    "!ls /proj/isi_group/isim/tianhaoz/Github/xclbin_factory/basic_vadd/System/binary_container_1.xclbin"
   ]
  },
  {
   "cell_type": "markdown",
   "metadata": {},
   "source": [
    "###### Note: as axlf structure makes no sense in the world of Python, loading bitstream is performed using path to the bitstream file"
   ]
  },
  {
   "cell_type": "code",
   "execution_count": 11,
   "metadata": {},
   "outputs": [],
   "source": [
    "xclbin_path = \"/proj/isi_group/isim/tianhaoz/Github/xclbin_factory/basic_vadd/System/binary_container_1.xclbin\"\n",
    "hal.lock(device_name)\n",
    "xclbin_info = hal.load(device_name, xclbin_path)\n",
    "hal.unlock(device_name)"
   ]
  },
  {
   "cell_type": "markdown",
   "metadata": {},
   "source": [
    "As far as I know, get section info API will be deprecated. If so, this will bee the only access to the sysfs. Considering adding sysfs path and driver instance number into get device info API."
   ]
  },
  {
   "cell_type": "code",
   "execution_count": 12,
   "metadata": {},
   "outputs": [],
   "source": [
    "cu_base_addr = xclbin_info[\"ip_layout\"][\"krnl_vadd:krnl_vadd_1\"][\"address\"]"
   ]
  },
  {
   "cell_type": "code",
   "execution_count": 13,
   "metadata": {},
   "outputs": [
    {
     "name": "stdout",
     "output_type": "stream",
     "text": [
      "cu base address: 0x1800000\n"
     ]
    }
   ],
   "source": [
    "print(\"cu base address: \" + hex(cu_base_addr))"
   ]
  },
  {
   "cell_type": "markdown",
   "metadata": {},
   "source": [
    "### Allocate Buffers\n",
    "\n",
    "#### NumPy API: achieve zero-copy\n",
    "\n",
    "#### Conversion API: no other way to support arbitrary precision types"
   ]
  },
  {
   "cell_type": "code",
   "execution_count": 14,
   "metadata": {},
   "outputs": [],
   "source": [
    "buffer_type = \"device_ram\"\n",
    "array_size = 10\n",
    "byte_size = array_size * 4\n",
    "array_a = np.array([i for i in range(array_size)]).astype(np.int32)\n",
    "array_b = np.array([i for i in range(array_size)]).astype(np.int32)"
   ]
  },
  {
   "cell_type": "markdown",
   "metadata": {},
   "source": [
    "###### To achieve best efficiency, allocate buffer and load data with NumPy and buffer write API. Buffer mapping is implemented but not recommended."
   ]
  },
  {
   "cell_type": "code",
   "execution_count": 15,
   "metadata": {},
   "outputs": [
    {
     "name": "stdout",
     "output_type": "stream",
     "text": [
      "buffer a physical address: 0x4000000000\n"
     ]
    }
   ],
   "source": [
    "buffer_handle_a = hal.allocate_buffer(device_name, buffer_type, 0, byte_size)\n",
    "buffer_a_property = hal.buffer_property(device_name, buffer_handle_a)\n",
    "buffer_a_physical_addr = buffer_a_property[\"physical_addr\"]\n",
    "print(\"buffer a physical address: \" + hex(buffer_a_physical_addr))"
   ]
  },
  {
   "cell_type": "code",
   "execution_count": 16,
   "metadata": {},
   "outputs": [
    {
     "name": "stdout",
     "output_type": "stream",
     "text": [
      "buffer b physical address: 0x4000001000\n"
     ]
    }
   ],
   "source": [
    "buffer_handle_b = hal.allocate_buffer(device_name, buffer_type, 0, byte_size)\n",
    "buffer_b_property = hal.buffer_property(device_name, buffer_handle_b)\n",
    "buffer_b_physical_addr = buffer_b_property[\"physical_addr\"]\n",
    "print(\"buffer b physical address: \" + hex(buffer_b_physical_addr))"
   ]
  },
  {
   "cell_type": "code",
   "execution_count": 17,
   "metadata": {},
   "outputs": [
    {
     "name": "stdout",
     "output_type": "stream",
     "text": [
      "buffer res physical address: 0x4000002000\n"
     ]
    }
   ],
   "source": [
    "buffer_handle_res = hal.allocate_buffer(device_name, buffer_type, 0, byte_size)\n",
    "buffer_res_property = hal.buffer_property(device_name, buffer_handle_res)\n",
    "buffer_res_physical_addr = buffer_res_property[\"physical_addr\"]\n",
    "print(\"buffer res physical address: \" + hex(buffer_res_physical_addr))"
   ]
  },
  {
   "cell_type": "code",
   "execution_count": 18,
   "metadata": {},
   "outputs": [],
   "source": [
    "hal.write_buffer(device_name, buffer_handle_a, array_a)\n",
    "hal.write_buffer(device_name, buffer_handle_b, array_b)"
   ]
  },
  {
   "cell_type": "code",
   "execution_count": 19,
   "metadata": {},
   "outputs": [],
   "source": [
    "hal.sync_buffer(device_name, buffer_handle_a, \"host_to_device\", byte_size, 0)\n",
    "hal.sync_buffer(device_name, buffer_handle_b, \"host_to_device\", byte_size, 0)"
   ]
  },
  {
   "cell_type": "markdown",
   "metadata": {},
   "source": [
    "###### This is the only exception that was implemented with buffer mapping. Considering deprecate it later."
   ]
  },
  {
   "cell_type": "code",
   "execution_count": 20,
   "metadata": {},
   "outputs": [],
   "source": [
    "ert_command_buffer_handle = hal.allocate_buffer(device_name, \"shared_virtual\", int(\"0x80000000\", 0), 1024*4)\n",
    "hal.map_buffer(device_name, ert_command_buffer_handle, True)"
   ]
  },
  {
   "cell_type": "code",
   "execution_count": 21,
   "metadata": {},
   "outputs": [],
   "source": [
    "ert_config = {\n",
    "    \"slot_size\": 1024,\n",
    "    \"num_compute_unit\": 1,\n",
    "    \"compute_unit_shift\": 16,\n",
    "    \"compute_unit_base_addr\": cu_base_addr,\n",
    "    \"enable_ert\": True,\n",
    "    \"compute_unit_dma\": 1,\n",
    "    \"compute_unit_isr\": 1,\n",
    "    \"state\": \"new\",\n",
    "    \"opcode\": \"configure\"\n",
    "}"
   ]
  },
  {
   "cell_type": "code",
   "execution_count": 22,
   "metadata": {},
   "outputs": [],
   "source": [
    "start_config = {\n",
    "    \"state\": \"new\",\n",
    "    \"opcode\": \"start_compute_unit\",\n",
    "    \"compute_unit_mask\": int(\"0x1\", 0),\n",
    "    \"argument_addr\": [\n",
    "        buffer_a_physical_addr,\n",
    "        buffer_b_physical_addr,\n",
    "        buffer_res_physical_addr,\n",
    "        array_size\n",
    "    ]\n",
    "}"
   ]
  },
  {
   "cell_type": "markdown",
   "metadata": {},
   "source": [
    "### Configure ERT"
   ]
  },
  {
   "cell_type": "code",
   "execution_count": 23,
   "metadata": {},
   "outputs": [],
   "source": [
    "hal.configure_ert(device_name, ert_command_buffer_handle, ert_config)\n",
    "hal.execute_buffer(device_name, ert_command_buffer_handle)\n",
    "hal.execute_wait(device_name, 1000)"
   ]
  },
  {
   "cell_type": "markdown",
   "metadata": {},
   "source": [
    "### Start Kernel"
   ]
  },
  {
   "cell_type": "code",
   "execution_count": 24,
   "metadata": {},
   "outputs": [],
   "source": [
    "hal.start_kernel(device_name, ert_command_buffer_handle, start_config)\n",
    "hal.execute_buffer(device_name, ert_command_buffer_handle)\n",
    "hal.execute_wait(device_name, 1000)"
   ]
  },
  {
   "cell_type": "markdown",
   "metadata": {},
   "source": [
    "### Read Back the Result\n",
    "Again, although doing `hal.read_buffer_convert(device_name, buffer_handle_res, byte_size, 0, \"ap_int7\", \"int\")` is possible, doing it using NumPy is much more efficient."
   ]
  },
  {
   "cell_type": "code",
   "execution_count": 25,
   "metadata": {},
   "outputs": [
    {
     "name": "stdout",
     "output_type": "stream",
     "text": [
      "result array: \n",
      "[ 0  2  4  6  8 10 12 14 16 18]\n"
     ]
    }
   ],
   "source": [
    "hal.sync_buffer(device_name, buffer_handle_res, \"device_to_host\", byte_size, 0)\n",
    "result_arr = hal.read_buffer(device_name, buffer_handle_res, byte_size, 0, \"int\")\n",
    "print(\"result array: \")\n",
    "print(result_arr)"
   ]
  },
  {
   "cell_type": "markdown",
   "metadata": {},
   "source": [
    "### Use It to Prototype Debug & Profile & Emulation Features\n",
    "\n",
    "Let's assume I receive a CR asking for visibility into kernel argument for hardware debugging in xbutil and SDAccel."
   ]
  },
  {
   "cell_type": "code",
   "execution_count": 26,
   "metadata": {},
   "outputs": [
    {
     "name": "stdout",
     "output_type": "stream",
     "text": [
      "Value at 0x1800000 is 0x4\n",
      "Value at 0x1800004 is 0x1\n",
      "Value at 0x1800008 is 0x1\n"
     ]
    }
   ],
   "source": [
    "cu_register_data = hal.read_register(device_name, \"control\", cu_base_addr, 3)\n",
    "for register in cu_register_data:\n",
    "    print(\"Value at \" + hex(register[\"addr\"]) + \" is \" + hex(register[\"value\"]))"
   ]
  },
  {
   "cell_type": "markdown",
   "metadata": {},
   "source": [
    "| offset: 0x00, absolute adress: 0x1800000  | Control signals           |\n",
    "|-------------------------------------------|---------------------------|\n",
    "| bit 0                                     | ap_start (Read/Write/COH) |\n",
    "| bit 1                                     | ap_done (Read/COR)        |\n",
    "| bit 2                                     | ap_idle (Read)            |\n",
    "| bit 3                                     | ap_ready (Read)           |       \n",
    "| bit 7                                     | auto_restart (Read/Write) |\n",
    "| others                                    | - reserved                |\n",
    "       \n",
    "| offset: 0x04, absolute address: 0x1800004 | Global Interrupt Enable Register     |\n",
    "|-------------------------------------------|--------------------------------------|\n",
    "| bit 0                                     | Global Interrupt Enable (Read/Write) |       \n",
    "| others                                    | reserved                             |\n",
    "       \n",
    "| offset: 0x08, absolute address: 0x1800008 | IP Interrupt Enable Register (Read/Write) |\n",
    "|-------------------------------------------|-------------------------------------------|\n",
    "| bit 0                                     | Channel 0 (ap_done)                       |\n",
    "| bit 1                                     | Channel 1 (ap_ready)                      |\n",
    "| others                                    | reserved                                  |"
   ]
  },
  {
   "cell_type": "markdown",
   "metadata": {},
   "source": [
    "### Clean Up the Mess (Actually not necessary in the Python world)"
   ]
  },
  {
   "cell_type": "code",
   "execution_count": 27,
   "metadata": {},
   "outputs": [],
   "source": [
    "hal.free_buffer(device_name, ert_command_buffer_handle)\n",
    "hal.free_buffer(device_name, buffer_handle_a)\n",
    "hal.free_buffer(device_name, buffer_handle_b)\n",
    "hal.free_buffer(device_name, buffer_handle_res)"
   ]
  },
  {
   "cell_type": "markdown",
   "metadata": {},
   "source": [
    "### Customize Data Presentation\n",
    "\n",
    "###### About the CR I recevied saying that xbutil needs to group information in a different way and that its output should be json and yaml parsable"
   ]
  },
  {
   "cell_type": "code",
   "execution_count": 28,
   "metadata": {},
   "outputs": [],
   "source": [
    "xbutil_scan_output = !xbutil scan"
   ]
  },
  {
   "cell_type": "code",
   "execution_count": 29,
   "metadata": {},
   "outputs": [],
   "source": [
    "management_driver = xbutil_scan_output[-2]\n",
    "user_driver = xbutil_scan_output[-1]"
   ]
  },
  {
   "cell_type": "code",
   "execution_count": 30,
   "metadata": {},
   "outputs": [
    {
     "name": "stdout",
     "output_type": "stream",
     "text": [
      "{\n",
      "    \"User_Driver\": \"[0]user:[65:00.0]:0x5005:0x000e:[xocl_xdma:2018.2.8:128]\", \n",
      "    \"Version\": \"2.1\", \n",
      "    \"DDR_Bank_Count\": 4, \n",
      "    \"DSA_Name\": \"xilinx_u250_xdma_201820_1\", \n",
      "    \"Management_Driver\": \"[0]mgmt:[65:00.1]:0x5004:0x000e:[xclmgmt:2018.2.2:25857]\"\n",
      "}\n"
     ]
    }
   ],
   "source": [
    "prepare_info = hal.info(device_name)\n",
    "raw_output = {\n",
    "    \"DSA_Name\": prepare_info[\"name\"],\n",
    "    \"Version\": str(prepare_info[\"major_version\"]) + \".\" + str(prepare_info[\"minor_version\"]),\n",
    "    \"DDR_Bank_Count\": prepare_info[\"DDR_bank_count\"],\n",
    "    \"Management_Driver\": management_driver,\n",
    "    \"User_Driver\": user_driver\n",
    "}\n",
    "json_output = json.dumps(raw_output, indent=4)\n",
    "print(json_output)"
   ]
  },
  {
   "cell_type": "markdown",
   "metadata": {},
   "source": [
    "### Try to Prototype the Power Profiling Feature in SDAccel"
   ]
  },
  {
   "cell_type": "code",
   "execution_count": 31,
   "metadata": {},
   "outputs": [
    {
     "data": {
      "application/vnd.jupyter.widget-view+json": {
       "model_id": "aa4f70c890e94f30a7dbf18e6fc7f5da",
       "version_major": 2,
       "version_minor": 0
      },
      "text/plain": [
       "SEJveChjaGlsZHJlbj0oSW50UHJvZ3Jlc3ModmFsdWU9MCwgZGVzY3JpcHRpb249dSdTYW1wbGluZyBQb3dlcicsIHN0eWxlPVByb2dyZXNzU3R5bGUoZGVzY3JpcHRpb25fd2lkdGg9dSdpbmnigKY=\n"
      ]
     },
     "metadata": {},
     "output_type": "display_data"
    },
    {
     "name": "stdout",
     "output_type": "stream",
     "text": [
      "\n",
      "Actual time used: 10.6750638485 seconds\n"
     ]
    }
   ],
   "source": [
    "power_trace = []\n",
    "start = time.time()\n",
    "for i in tqdm_notebook(xrange(100), desc='Sampling Power'):\n",
    "    tmp_info = hal.info(device_name)\n",
    "    voltage = tmp_info[\"12v_pex\"] / 1000.0\n",
    "    current = tmp_info[\"pex_current\"] / 1000.0\n",
    "    power = tmp_info[\"12v_pex\"] / 1000.0 * tmp_info[\"pex_current\"] / 1000.0\n",
    "    power_trace.append(power)\n",
    "    sleep(0.1)\n",
    "end = time.time()\n",
    "print(\"Actual time used: \" + str(end - start) + \" seconds\")"
   ]
  },
  {
   "cell_type": "code",
   "execution_count": 32,
   "metadata": {},
   "outputs": [
    {
     "data": {
      "image/png": "[encoded data removed]",
      "text/plain": [
       "<Figure size 432x288 with 1 Axes>"
      ]
     },
     "metadata": {
      "needs_background": "light"
     },
     "output_type": "display_data"
    }
   ],
   "source": [
    "plt.figure()\n",
    "plt.title(\"Power Consumption in 10 seconds\")\n",
    "plt.ylabel(\"Power (Watt)\")\n",
    "plt.xlabel(\"Time (0.1 second)\")\n",
    "plt.ylim(ymax=max(power_trace)+0.3,ymin=min(power_trace)-0.3)\n",
    "plt.plot(power_trace, label=\"power trace\")\n",
    "plt.legend()\n",
    "plt.show()"
   ]
  },
  {
   "cell_type": "markdown",
   "metadata": {},
   "source": [
    "#### From this prototype, we can see that polling at 10Hz is not a heavy load operation on the host, and also we know the range and variation which is important to the GUI guy."
   ]
  },
  {
   "cell_type": "code",
   "execution_count": 33,
   "metadata": {},
   "outputs": [],
   "source": [
    "hal.close(device_name)"
   ]
  },
  {
   "cell_type": "markdown",
   "metadata": {},
   "source": [
    "### The way I am using it\n",
    "\n",
    "* Debug interactively (kernel hang, memory mis-alignment and other ugly bugs)\n",
    "* Prototype host code (rapid prototyping) For example, quickly write up a power profiling and see if the plot make sense.\n",
    "* Presentation (notebook)"
   ]
  },
  {
   "cell_type": "code",
   "execution_count": null,
   "metadata": {},
   "outputs": [],
   "source": []
  }
 ],
 "metadata": {
  "kernelspec": {
   "display_name": "XRT Python",
   "language": "python",
   "name": "xrt-env"
  },
  "language_info": {
   "codemirror_mode": {
    "name": "ipython",
    "version": 2
   },
   "file_extension": ".py",
   "mimetype": "text/x-python",
   "name": "python",
   "nbconvert_exporter": "python",
   "pygments_lexer": "ipython2",
   "version": "2.7.5"
  }
 },
 "nbformat": 4,
 "nbformat_minor": 2
}
